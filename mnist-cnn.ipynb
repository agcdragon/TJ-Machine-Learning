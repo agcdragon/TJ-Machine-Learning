{
  "nbformat": 4,
  "nbformat_minor": 0,
  "metadata": {
    "colab": {
      "name": "mnist-cnn.ipynb",
      "provenance": [],
      "collapsed_sections": []
    },
    "kernelspec": {
      "name": "python3",
      "display_name": "Python 3"
    },
    "accelerator": "GPU"
  },
  "cells": [
    {
      "cell_type": "markdown",
      "metadata": {
        "id": "EtbIxMiqD2RT"
      },
      "source": [
        "Importing Libraries"
      ]
    },
    {
      "cell_type": "code",
      "metadata": {
        "id": "xlr1zmhHBk4s"
      },
      "source": [
        "import tensorflow as tf\n",
        "from tensorflow.keras import layers\n",
        "from tensorflow.keras import models\n",
        "from tensorflow.keras.datasets import mnist\n",
        "from tensorflow.keras.utils import to_categorical\n",
        "import matplotlib.pyplot as plt\n",
        "import numpy as np\n",
        "\n",
        "%reload_ext autoreload\n",
        "%autoreload 2\n",
        "%matplotlib inline"
      ],
      "execution_count": 32,
      "outputs": []
    },
    {
      "cell_type": "markdown",
      "metadata": {
        "id": "cT6MAbbTD7ax"
      },
      "source": [
        "Defining Convolutional Neural Network"
      ]
    },
    {
      "cell_type": "code",
      "metadata": {
        "colab": {
          "base_uri": "https://localhost:8080/"
        },
        "id": "BDQz-oxJDxAl",
        "outputId": "86206aa2-8b48-4f14-90ed-565300759ea4"
      },
      "source": [
        "# Define the CNN model\n",
        "model = models.Sequential()\n",
        "\n",
        "# First convolutional layer\n",
        "model.add(layers.Conv2D(64, (3,3), activation='relu', input_shape=(28, 28,1)))\n",
        "model.add(layers.BatchNormalization())\n",
        "\n",
        "# Second convolutional layer\n",
        "model.add(layers.Conv2D(64, (3,3), activation='relu'))\n",
        "model.add(layers.BatchNormalization())\n",
        "\n",
        "# Third convolutional layer\n",
        "model.add(layers.Conv2D(64, (5,5), strides=2, activation='relu'))\n",
        "model.add(layers.BatchNormalization())\n",
        "\n",
        "model.add(layers.Dropout(0.4))\n",
        "model.add(layers.Flatten())\n",
        "model.add(layers.Dense(256, activation='relu'))\n",
        "model.add(layers.Dense(10, activation='softmax'))\n",
        "\n",
        "model.summary()"
      ],
      "execution_count": 3,
      "outputs": [
        {
          "output_type": "stream",
          "name": "stdout",
          "text": [
            "Model: \"sequential\"\n",
            "_________________________________________________________________\n",
            " Layer (type)                Output Shape              Param #   \n",
            "=================================================================\n",
            " conv2d (Conv2D)             (None, 26, 26, 64)        640       \n",
            "                                                                 \n",
            " batch_normalization (BatchN  (None, 26, 26, 64)       256       \n",
            " ormalization)                                                   \n",
            "                                                                 \n",
            " conv2d_1 (Conv2D)           (None, 24, 24, 64)        36928     \n",
            "                                                                 \n",
            " batch_normalization_1 (Batc  (None, 24, 24, 64)       256       \n",
            " hNormalization)                                                 \n",
            "                                                                 \n",
            " conv2d_2 (Conv2D)           (None, 10, 10, 64)        102464    \n",
            "                                                                 \n",
            " batch_normalization_2 (Batc  (None, 10, 10, 64)       256       \n",
            " hNormalization)                                                 \n",
            "                                                                 \n",
            " dropout (Dropout)           (None, 10, 10, 64)        0         \n",
            "                                                                 \n",
            " flatten (Flatten)           (None, 6400)              0         \n",
            "                                                                 \n",
            " dense (Dense)               (None, 256)               1638656   \n",
            "                                                                 \n",
            " dense_1 (Dense)             (None, 10)                2570      \n",
            "                                                                 \n",
            "=================================================================\n",
            "Total params: 1,782,026\n",
            "Trainable params: 1,781,642\n",
            "Non-trainable params: 384\n",
            "_________________________________________________________________\n"
          ]
        }
      ]
    },
    {
      "cell_type": "markdown",
      "metadata": {
        "id": "Uk_8LSw0EGLY"
      },
      "source": [
        "Importing and Normalizing Train/Test Data"
      ]
    },
    {
      "cell_type": "code",
      "metadata": {
        "colab": {
          "base_uri": "https://localhost:8080/"
        },
        "id": "g6T6l5AwEF26",
        "outputId": "9017c6bc-69c3-483a-95c4-88b12525c652"
      },
      "source": [
        "# Split the data into training and test sets\n",
        "(train_images, train_labels), (test_images, test_labels) = mnist.load_data()\n",
        "\n",
        "train_images = train_images.reshape((60000, 28, 28, 1))\n",
        "train_images = train_images.astype('float32') / 255\n",
        "\n",
        "test_images = test_images.reshape((10000, 28, 28, 1))\n",
        "test_images = test_images.astype('float32') / 255\n",
        "\n",
        "train_labels = to_categorical(train_labels)\n",
        "test_labels = to_categorical(test_labels)"
      ],
      "execution_count": 4,
      "outputs": [
        {
          "output_type": "stream",
          "name": "stdout",
          "text": [
            "Downloading data from https://storage.googleapis.com/tensorflow/tf-keras-datasets/mnist.npz\n",
            "11493376/11490434 [==============================] - 0s 0us/step\n",
            "11501568/11490434 [==============================] - 0s 0us/step\n"
          ]
        }
      ]
    },
    {
      "cell_type": "markdown",
      "metadata": {
        "id": "qW7kEin7ERjX"
      },
      "source": [
        "Training Model"
      ]
    },
    {
      "cell_type": "code",
      "metadata": {
        "colab": {
          "base_uri": "https://localhost:8080/"
        },
        "id": "JiNbd-3qD4l6",
        "outputId": "ad749cb1-a494-4a65-e87e-7c2d699cabe3"
      },
      "source": [
        "# Use the training data to train the model\n",
        "model.compile(loss='categorical_crossentropy',\n",
        "              optimizer='adam',\n",
        "              metrics=['accuracy'])\n",
        "\n",
        "model.fit(train_images, train_labels,\n",
        "          batch_size=100,\n",
        "          epochs=50,\n",
        "          validation_split=1/7,\n",
        "          verbose=1)"
      ],
      "execution_count": 6,
      "outputs": [
        {
          "output_type": "stream",
          "name": "stdout",
          "text": [
            "Epoch 1/50\n",
            "515/515 [==============================] - 14s 26ms/step - loss: 0.0022 - accuracy: 0.9994 - val_loss: 0.0895 - val_accuracy: 0.9927\n",
            "Epoch 2/50\n",
            "515/515 [==============================] - 13s 25ms/step - loss: 0.0032 - accuracy: 0.9993 - val_loss: 0.0757 - val_accuracy: 0.9929\n",
            "Epoch 3/50\n",
            "515/515 [==============================] - 13s 25ms/step - loss: 0.0032 - accuracy: 0.9993 - val_loss: 0.0846 - val_accuracy: 0.9925\n",
            "Epoch 4/50\n",
            "515/515 [==============================] - 14s 26ms/step - loss: 0.0032 - accuracy: 0.9992 - val_loss: 0.0980 - val_accuracy: 0.9928\n",
            "Epoch 5/50\n",
            "515/515 [==============================] - 13s 25ms/step - loss: 0.0052 - accuracy: 0.9990 - val_loss: 0.0972 - val_accuracy: 0.9910\n",
            "Epoch 6/50\n",
            "515/515 [==============================] - 13s 25ms/step - loss: 0.0019 - accuracy: 0.9995 - val_loss: 0.1121 - val_accuracy: 0.9921\n",
            "Epoch 7/50\n",
            "515/515 [==============================] - 13s 25ms/step - loss: 0.0019 - accuracy: 0.9995 - val_loss: 0.0900 - val_accuracy: 0.9920\n",
            "Epoch 8/50\n",
            "515/515 [==============================] - 13s 25ms/step - loss: 0.0028 - accuracy: 0.9995 - val_loss: 0.1009 - val_accuracy: 0.9920\n",
            "Epoch 9/50\n",
            "515/515 [==============================] - 13s 25ms/step - loss: 0.0030 - accuracy: 0.9992 - val_loss: 0.1426 - val_accuracy: 0.9895\n",
            "Epoch 10/50\n",
            "515/515 [==============================] - 13s 25ms/step - loss: 0.0049 - accuracy: 0.9989 - val_loss: 0.0893 - val_accuracy: 0.9921\n",
            "Epoch 11/50\n",
            "515/515 [==============================] - 13s 25ms/step - loss: 0.0022 - accuracy: 0.9995 - val_loss: 0.0844 - val_accuracy: 0.9924\n",
            "Epoch 12/50\n",
            "515/515 [==============================] - 13s 25ms/step - loss: 0.0014 - accuracy: 0.9995 - val_loss: 0.0897 - val_accuracy: 0.9923\n",
            "Epoch 13/50\n",
            "515/515 [==============================] - 13s 26ms/step - loss: 0.0033 - accuracy: 0.9993 - val_loss: 0.0766 - val_accuracy: 0.9915\n",
            "Epoch 14/50\n",
            "515/515 [==============================] - 13s 25ms/step - loss: 0.0017 - accuracy: 0.9995 - val_loss: 0.0797 - val_accuracy: 0.9913\n",
            "Epoch 15/50\n",
            "515/515 [==============================] - 13s 26ms/step - loss: 0.0025 - accuracy: 0.9994 - val_loss: 0.0937 - val_accuracy: 0.9930\n",
            "Epoch 16/50\n",
            "515/515 [==============================] - 13s 26ms/step - loss: 0.0020 - accuracy: 0.9995 - val_loss: 0.1025 - val_accuracy: 0.9914\n",
            "Epoch 17/50\n",
            "515/515 [==============================] - 13s 25ms/step - loss: 0.0030 - accuracy: 0.9993 - val_loss: 0.1041 - val_accuracy: 0.9917\n",
            "Epoch 18/50\n",
            "515/515 [==============================] - 14s 26ms/step - loss: 0.0016 - accuracy: 0.9995 - val_loss: 0.0862 - val_accuracy: 0.9921\n",
            "Epoch 19/50\n",
            "515/515 [==============================] - 14s 26ms/step - loss: 0.0013 - accuracy: 0.9996 - val_loss: 0.1197 - val_accuracy: 0.9904\n",
            "Epoch 20/50\n",
            "515/515 [==============================] - 13s 26ms/step - loss: 0.0021 - accuracy: 0.9996 - val_loss: 0.1027 - val_accuracy: 0.9915\n",
            "Epoch 21/50\n",
            "515/515 [==============================] - 13s 25ms/step - loss: 0.0036 - accuracy: 0.9992 - val_loss: 0.0761 - val_accuracy: 0.9931\n",
            "Epoch 22/50\n",
            "515/515 [==============================] - 13s 26ms/step - loss: 0.0020 - accuracy: 0.9995 - val_loss: 0.0732 - val_accuracy: 0.9935\n",
            "Epoch 23/50\n",
            "515/515 [==============================] - 13s 25ms/step - loss: 0.0012 - accuracy: 0.9996 - val_loss: 0.0756 - val_accuracy: 0.9923\n",
            "Epoch 24/50\n",
            "515/515 [==============================] - 14s 27ms/step - loss: 0.0027 - accuracy: 0.9992 - val_loss: 0.0980 - val_accuracy: 0.9914\n",
            "Epoch 25/50\n",
            "515/515 [==============================] - 13s 26ms/step - loss: 0.0028 - accuracy: 0.9993 - val_loss: 0.0859 - val_accuracy: 0.9924\n",
            "Epoch 26/50\n",
            "515/515 [==============================] - 13s 25ms/step - loss: 0.0014 - accuracy: 0.9997 - val_loss: 0.0819 - val_accuracy: 0.9929\n",
            "Epoch 27/50\n",
            "515/515 [==============================] - 13s 25ms/step - loss: 0.0021 - accuracy: 0.9995 - val_loss: 0.0757 - val_accuracy: 0.9938\n",
            "Epoch 28/50\n",
            "515/515 [==============================] - 13s 25ms/step - loss: 0.0029 - accuracy: 0.9994 - val_loss: 0.0829 - val_accuracy: 0.9938\n",
            "Epoch 29/50\n",
            "515/515 [==============================] - 13s 25ms/step - loss: 7.1518e-04 - accuracy: 0.9998 - val_loss: 0.0886 - val_accuracy: 0.9928\n",
            "Epoch 30/50\n",
            "515/515 [==============================] - 13s 25ms/step - loss: 0.0011 - accuracy: 0.9996 - val_loss: 0.1143 - val_accuracy: 0.9909\n",
            "Epoch 31/50\n",
            "515/515 [==============================] - 14s 27ms/step - loss: 0.0024 - accuracy: 0.9993 - val_loss: 0.0925 - val_accuracy: 0.9920\n",
            "Epoch 32/50\n",
            "515/515 [==============================] - 13s 25ms/step - loss: 0.0045 - accuracy: 0.9991 - val_loss: 0.0877 - val_accuracy: 0.9923\n",
            "Epoch 33/50\n",
            "515/515 [==============================] - 13s 25ms/step - loss: 0.0018 - accuracy: 0.9995 - val_loss: 0.0946 - val_accuracy: 0.9931\n",
            "Epoch 34/50\n",
            "515/515 [==============================] - 13s 25ms/step - loss: 6.8478e-04 - accuracy: 0.9997 - val_loss: 0.0869 - val_accuracy: 0.9934\n",
            "Epoch 35/50\n",
            "515/515 [==============================] - 13s 25ms/step - loss: 0.0015 - accuracy: 0.9997 - val_loss: 0.0764 - val_accuracy: 0.9934\n",
            "Epoch 36/50\n",
            "515/515 [==============================] - 13s 25ms/step - loss: 0.0023 - accuracy: 0.9995 - val_loss: 0.0863 - val_accuracy: 0.9924\n",
            "Epoch 37/50\n",
            "515/515 [==============================] - 13s 26ms/step - loss: 0.0016 - accuracy: 0.9997 - val_loss: 0.0914 - val_accuracy: 0.9917\n",
            "Epoch 38/50\n",
            "515/515 [==============================] - 13s 25ms/step - loss: 0.0021 - accuracy: 0.9996 - val_loss: 0.1254 - val_accuracy: 0.9918\n",
            "Epoch 39/50\n",
            "515/515 [==============================] - 14s 27ms/step - loss: 0.0019 - accuracy: 0.9997 - val_loss: 0.0988 - val_accuracy: 0.9927\n",
            "Epoch 40/50\n",
            "515/515 [==============================] - 13s 25ms/step - loss: 9.6567e-04 - accuracy: 0.9997 - val_loss: 0.1062 - val_accuracy: 0.9929\n",
            "Epoch 41/50\n",
            "515/515 [==============================] - 13s 25ms/step - loss: 0.0017 - accuracy: 0.9995 - val_loss: 0.0959 - val_accuracy: 0.9924\n",
            "Epoch 42/50\n",
            "515/515 [==============================] - 13s 25ms/step - loss: 0.0029 - accuracy: 0.9994 - val_loss: 0.1026 - val_accuracy: 0.9916\n",
            "Epoch 43/50\n",
            "515/515 [==============================] - 13s 26ms/step - loss: 0.0027 - accuracy: 0.9995 - val_loss: 0.0914 - val_accuracy: 0.9930\n",
            "Epoch 44/50\n",
            "515/515 [==============================] - 13s 25ms/step - loss: 0.0027 - accuracy: 0.9995 - val_loss: 0.0979 - val_accuracy: 0.9942\n",
            "Epoch 45/50\n",
            "515/515 [==============================] - 13s 26ms/step - loss: 0.0014 - accuracy: 0.9997 - val_loss: 0.0940 - val_accuracy: 0.9943\n",
            "Epoch 46/50\n",
            "515/515 [==============================] - 13s 25ms/step - loss: 0.0025 - accuracy: 0.9995 - val_loss: 0.0849 - val_accuracy: 0.9934\n",
            "Epoch 47/50\n",
            "515/515 [==============================] - 13s 26ms/step - loss: 4.5094e-04 - accuracy: 0.9998 - val_loss: 0.0913 - val_accuracy: 0.9941\n",
            "Epoch 48/50\n",
            "515/515 [==============================] - 13s 25ms/step - loss: 0.0019 - accuracy: 0.9995 - val_loss: 0.0993 - val_accuracy: 0.9931\n",
            "Epoch 49/50\n",
            "515/515 [==============================] - 13s 26ms/step - loss: 0.0019 - accuracy: 0.9996 - val_loss: 0.0893 - val_accuracy: 0.9935\n",
            "Epoch 50/50\n",
            "515/515 [==============================] - 13s 25ms/step - loss: 0.0015 - accuracy: 0.9996 - val_loss: 0.1146 - val_accuracy: 0.9931\n"
          ]
        },
        {
          "output_type": "execute_result",
          "data": {
            "text/plain": [
              "<keras.callbacks.History at 0x7f88cd8c3390>"
            ]
          },
          "metadata": {},
          "execution_count": 6
        }
      ]
    },
    {
      "cell_type": "markdown",
      "metadata": {
        "id": "w9cymOFJEZxJ"
      },
      "source": [
        "Test Model Accuracy & Visualize Results"
      ]
    },
    {
      "cell_type": "code",
      "metadata": {
        "colab": {
          "base_uri": "https://localhost:8080/"
        },
        "id": "XZvWbuiJEgXF",
        "outputId": "3c321af3-bdef-4ca6-a87f-0a2d9b2fffcf"
      },
      "source": [
        "# Test the model's accuracy with the test data\n",
        "test_loss, test_acc = model.evaluate(test_images, test_labels)\n",
        "predict_labels = model.predict(test_images)"
      ],
      "execution_count": 27,
      "outputs": [
        {
          "output_type": "stream",
          "name": "stdout",
          "text": [
            "313/313 [==============================] - 2s 7ms/step - loss: 0.0887 - accuracy: 0.9924\n"
          ]
        }
      ]
    },
    {
      "cell_type": "code",
      "metadata": {
        "colab": {
          "base_uri": "https://localhost:8080/",
          "height": 331
        },
        "id": "_WGKZw8OZycJ",
        "outputId": "dee73c5f-593a-446a-fe56-765de0bfec87"
      },
      "source": [
        "# Plot test data images with predicted label\n",
        "fig, axes = plt.subplots(5, 5, constrained_layout=True)\n",
        "for i, ax in enumerate(axes.flat):\n",
        "  ax.imshow(test_images[i].reshape((28,28)), cmap='binary')\n",
        "  predict_label, actual_label = np.argmax(predict_labels[i]), np.argmax(test_labels[i])\n",
        "  xlabel = f\"Predicted: {predict_label}\"\n",
        "  ax.set_xlabel(xlabel)\n",
        "plt.show()\n",
        "\n",
        "print('Test accuracy:', test_acc)"
      ],
      "execution_count": 47,
      "outputs": [
        {
          "output_type": "display_data",
          "data": {
            "image/png": "[encoded data removed]",
            "text/plain": [
              "<Figure size 432x288 with 25 Axes>"
            ]
          },
          "metadata": {
            "needs_background": "light"
          }
        },
        {
          "output_type": "stream",
          "name": "stdout",
          "text": [
            "Test accuracy: 0.9923999905586243\n"
          ]
        }
      ]
    },
    {
      "cell_type": "code",
      "metadata": {
        "id": "sVGvbtn2Z7mK"
      },
      "source": [
        ""
      ],
      "execution_count": null,
      "outputs": []
    }
  ]
}